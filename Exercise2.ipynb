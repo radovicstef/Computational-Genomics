{
 "cells": [
  {
   "cell_type": "code",
   "execution_count": 1,
   "metadata": {},
   "outputs": [],
   "source": [
    "import pysam"
   ]
  },
  {
   "cell_type": "markdown",
   "metadata": {},
   "source": [
    "Create an AlignmentFile object for \"merged-tumor.bam\" from Public files gallery"
   ]
  },
  {
   "cell_type": "code",
   "execution_count": 2,
   "metadata": {},
   "outputs": [
    {
     "name": "stdout",
     "output_type": "stream",
     "text": [
      "merged-tumor.bam\n"
     ]
    }
   ],
   "source": [
    "!ls /sbgenomics/project-files/\n",
    "alignmentFile = pysam.AlignmentFile(\"/sbgenomics/project-files/merged-tumor.bam\", \"rb\")"
   ]
  },
  {
   "cell_type": "markdown",
   "metadata": {},
   "source": [
    "Take the first read from the AlignmentFile"
   ]
  },
  {
   "cell_type": "code",
   "execution_count": 3,
   "metadata": {},
   "outputs": [
    {
     "name": "stdout",
     "output_type": "stream",
     "text": [
      "C0HVYACXX120402:7:1207:5722:57044\t1187\t20\t9483248\t27\t76M\t20\t9483381\t76\tTTTTCAAACAGTATCTATGCCTGCCAAATGTGAACATATAAAAAAAAACCAGAATGTGCCATTCTGATTTAAACTG\tarray('B', [28, 28, 27, 29, 31, 30, 31, 31, 29, 31, 35, 30, 29, 31, 34, 30, 29, 23, 41, 32, 20, 30, 29, 34, 34, 29, 30, 31, 30, 30, 30, 33, 33, 26, 39, 12, 25, 19, 32, 30, 35, 28, 35, 33, 23, 33, 35, 36, 30, 38, 33, 41, 34, 35, 31, 33, 23, 30, 30, 36, 27, 32, 29, 34, 35, 41, 33, 31, 33, 29, 32, 32, 31, 31, 31, 34])\t[('XA', 'GL000217.1,-110754,76M,1;'), ('BD', 'NNNNNNNNNNNNNNNNNNNNNNNNNNNNNNNNNNNNNNNNNNNNNNNNNNNNNNNNNNNNNNNNNNNNNNNNNNNN'), ('MD', '76'), ('RG', '1'), ('BI', 'NNNNNNNNNNNNNNNNNNNNNNNNNNNNNNNNNNNNNNNNNNNNNNNNNNNNNNNNNNNNNNNNNNNNNNNNNNNN'), ('NM', 0), ('MQ', 27), ('AS', 76), ('XS', 71)]\n"
     ]
    }
   ],
   "source": [
    "reads = []\n",
    "for read in alignmentFile:\n",
    "    reads.append(read)\n",
    "print(reads[0])"
   ]
  },
  {
   "cell_type": "markdown",
   "metadata": {},
   "source": [
    "Inspect the fields in the AlignedSegment"
   ]
  },
  {
   "cell_type": "code",
   "execution_count": 4,
   "metadata": {},
   "outputs": [
    {
     "name": "stdout",
     "output_type": "stream",
     "text": [
      "QUERY NAME: C0HVYACXX120402:7:1207:5722:57044\n",
      "FLAG: 1187\n",
      "REFERENCE ID: 20\n",
      "REFERENCE START: 9483248\n",
      "MAPPING QUALITY: 27\n",
      "CIGAR: [(0, 76)]\n",
      "NEXT REFERENCE ID: 20\n",
      "NEXT REFERENCE START9483381\n",
      "TEMPLATE LENGTH: 209\n",
      "QUERY SEQUENCE: TTTTCAAACAGTATCTATGCCTGCCAAATGTGAACATATAAAAAAAAACCAGAATGTGCCATTCTGATTTAAACTG\n",
      "QUERY_QUALITIES: array('B', [28, 28, 27, 29, 31, 30, 31, 31, 29, 31, 35, 30, 29, 31, 34, 30, 29, 23, 41, 32, 20, 30, 29, 34, 34, 29, 30, 31, 30, 30, 30, 33, 33, 26, 39, 12, 25, 19, 32, 30, 35, 28, 35, 33, 23, 33, 35, 36, 30, 38, 33, 41, 34, 35, 31, 33, 23, 30, 30, 36, 27, 32, 29, 34, 35, 41, 33, 31, 33, 29, 32, 32, 31, 31, 31, 34])\n",
      "TAGS: [('XA', 'GL000217.1,-110754,76M,1;'), ('BD', 'NNNNNNNNNNNNNNNNNNNNNNNNNNNNNNNNNNNNNNNNNNNNNNNNNNNNNNNNNNNNNNNNNNNNNNNNNNNN'), ('MD', '76'), ('RG', '1'), ('BI', 'NNNNNNNNNNNNNNNNNNNNNNNNNNNNNNNNNNNNNNNNNNNNNNNNNNNNNNNNNNNNNNNNNNNNNNNNNNNN'), ('NM', 0), ('MQ', 27), ('AS', 76), ('XS', 71)]\n"
     ]
    }
   ],
   "source": [
    "print(\"QUERY NAME: \" + str(reads[0].query_name))\n",
    "print(\"FLAG: \" + str(reads[0].flag))\n",
    "print(\"REFERENCE ID: \" + str(reads[0].reference_id))\n",
    "print(\"REFERENCE START: \" + str(reads[0].reference_start))\n",
    "print(\"MAPPING QUALITY: \" + str(reads[0].mapping_quality))\n",
    "print(\"CIGAR: \" + str(reads[0].cigar))\n",
    "print(\"NEXT REFERENCE ID: \" + str(reads[0].next_reference_id))\n",
    "print(\"NEXT REFERENCE START\" + str(reads[0].next_reference_start))\n",
    "print(\"TEMPLATE LENGTH: \" + str(reads[0].template_length))\n",
    "print(\"QUERY SEQUENCE: \" + str(reads[0].query_sequence))\n",
    "print(\"QUERY_QUALITIES: \" + str(reads[0].query_qualities))\n",
    "print(\"TAGS: \" + str(reads[0].tags))"
   ]
  },
  {
   "cell_type": "raw",
   "metadata": {},
   "source": [
    "Inspect the flag field"
   ]
  },
  {
   "cell_type": "code",
   "execution_count": 5,
   "metadata": {},
   "outputs": [
    {
     "name": "stdout",
     "output_type": "stream",
     "text": [
      "1187\n"
     ]
    }
   ],
   "source": [
    "print(reads[0].flag)"
   ]
  },
  {
   "cell_type": "markdown",
   "metadata": {},
   "source": [
    "Summary from https://broadinstitute.github.io/picard/explain-flags.html:\n",
    "    read paired (0x1)\n",
    "    read mapped in proper pair (0x2)\n",
    "    mate reverse strand (0x20)\n",
    "    second in pair (0x80)\n",
    "    read is PCR or optical duplicate (0x400)"
   ]
  },
  {
   "cell_type": "markdown",
   "metadata": {},
   "source": [
    "Calculate how many unmapped reads are in the file"
   ]
  },
  {
   "cell_type": "code",
   "execution_count": 6,
   "metadata": {},
   "outputs": [
    {
     "name": "stdout",
     "output_type": "stream",
     "text": [
      "Number of unmapped reads: 17765\n"
     ]
    }
   ],
   "source": [
    "numOfUnmapped = 0\n",
    "for read in reads:\n",
    "    if read.is_unmapped:\n",
    "        numOfUnmapped = numOfUnmapped + 1\n",
    "print(\"Number of unmapped reads: \" + str(numOfUnmapped))"
   ]
  },
  {
   "cell_type": "markdown",
   "metadata": {},
   "source": [
    "Calculate total number of reads"
   ]
  },
  {
   "cell_type": "code",
   "execution_count": 7,
   "metadata": {},
   "outputs": [
    {
     "name": "stdout",
     "output_type": "stream",
     "text": [
      "Total number of reads: 2921629\n"
     ]
    }
   ],
   "source": [
    "numOfReads = 0\n",
    "for read in reads:\n",
    "    numOfReads = numOfReads + 1\n",
    "print(\"Total number of reads: \" + str(numOfReads))"
   ]
  },
  {
   "cell_type": "markdown",
   "metadata": {},
   "source": [
    "Calculate number of reads with mapping quality 0"
   ]
  },
  {
   "cell_type": "code",
   "execution_count": 8,
   "metadata": {},
   "outputs": [
    {
     "name": "stdout",
     "output_type": "stream",
     "text": [
      "Number of reads with zero quality: 126628\n"
     ]
    }
   ],
   "source": [
    "numOfReadsWithZeroQuality = 0\n",
    "for read in reads:\n",
    "    if read.mapping_quality == 0:\n",
    "        numOfReadsWithZeroQuality = numOfReadsWithZeroQuality + 1\n",
    "print(\"Number of reads with zero quality: \" + str(numOfReadsWithZeroQuality))"
   ]
  },
  {
   "cell_type": "markdown",
   "metadata": {},
   "source": [
    "Calculate avarage mapping quality for all the reads"
   ]
  },
  {
   "cell_type": "code",
   "execution_count": 9,
   "metadata": {},
   "outputs": [
    {
     "name": "stdout",
     "output_type": "stream",
     "text": [
      "Average mapping quality: 55.91379158681681\n"
     ]
    }
   ],
   "source": [
    "qualitySum = 0\n",
    "num = 0\n",
    "for read in reads:\n",
    "    qualitySum = qualitySum + read.mapping_quality\n",
    "    num = num + 1\n",
    "print(\"Average mapping quality: \" + str(qualitySum/num))"
   ]
  },
  {
   "cell_type": "markdown",
   "metadata": {},
   "source": [
    "Calculate the avarage mapping quality if reads with 0 map quality are filtered out"
   ]
  },
  {
   "cell_type": "code",
   "execution_count": 10,
   "metadata": {},
   "outputs": [
    {
     "name": "stdout",
     "output_type": "stream",
     "text": [
      "Average mapping quality with 0 map quality filtered out: 58.446975510921106\n"
     ]
    }
   ],
   "source": [
    "qualitySum = 0\n",
    "num = 0\n",
    "for read in reads:\n",
    "    if read.mapping_quality == 0:\n",
    "        continue\n",
    "    qualitySum = qualitySum + read.mapping_quality\n",
    "    num = num + 1\n",
    "print(\"Average mapping quality with 0 map quality filtered out: \" + str(qualitySum/num))"
   ]
  }
 ],
 "metadata": {
  "kernelspec": {
   "display_name": "Python 3",
   "language": "python",
   "name": "python3"
  },
  "language_info": {
   "codemirror_mode": {
    "name": "ipython",
    "version": 3
   },
   "file_extension": ".py",
   "mimetype": "text/x-python",
   "name": "python",
   "nbconvert_exporter": "python",
   "pygments_lexer": "ipython3",
   "version": "3.8.3"
  }
 },
 "nbformat": 4,
 "nbformat_minor": 4
}
